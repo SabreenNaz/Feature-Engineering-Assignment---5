{
 "cells": [
  {
   "cell_type": "markdown",
   "id": "847adbb7-db76-4977-981e-bb4bb638709c",
   "metadata": {},
   "source": [
    "Q1. Pearson correlation coefficient is a measure of the linear relationship between two variables. Suppose\n",
    "you have collected data on the amount of time students spend studying for an exam and their final exam\n",
    "scores. Calculate the Pearson correlation coefficient between these two variables and interpret the result."
   ]
  },
  {
   "cell_type": "markdown",
   "id": "465c1ff4-c8b0-434e-a18b-6f3f53c3cbe9",
   "metadata": {
    "jp-MarkdownHeadingCollapsed": true,
    "tags": []
   },
   "source": [
    "#Answer\n",
    "\n",
    "To calculate the Pearson correlation coefficient between two variables, such as the amount of time students spend studying for an exam and their final exam scores, you can use the following formula:\n",
    "\n",
    "\n",
    "r = n(∑xy) − (∑x) (∑y) /(squareroot[n∑x** - (∑x) ** ][n∑y ** -(∑y) ** ]\n",
    "\n",
    "\n",
    "Where:\n",
    "\n",
    "\n",
    "n is the number of data points (students in this case).\n",
    "\n",
    "∑xy is the sum of the products of each student's study time and exam score.\n",
    "\n",
    "∑x is the sum of all the study times.\n",
    "\n",
    "∑y is the sum of all the exam scores.\n",
    "\n",
    "∑x**  is the sum of the squares of the study times.\n",
    "\n",
    "∑y** is the sum of the squares of the exam scores.\n",
    "\n",
    "\n",
    "Here's how you can interpret the result:\n",
    "\n",
    "* If r is close to 1: This indicates a strong positive linear relationship between study time and exam scores. In other words, as study time increases, exam scores tend to increase.\n",
    "\n",
    "* If r is close to -1: This indicates a strong negative linear relationship between study time and exam scores. In other words, as study time increases, exam scores tend to decrease.\n",
    "\n",
    "* If r is close to 0: This suggests a weak or no linear relationship between study time and exam scores. There may be little to no correlation between the two variables.\n",
    "\n",
    "* The sign of r (positive or negative) indicates the direction of the relationship. A positive sign means that as one variable increases, the other tends to increase, and a negative sign means that as one variable increases, the other tends to decrease.\n",
    "\n",
    "* The magnitude of r (how close it is to 1 or -1) indicates the strength of the relationship. The closer r is to 1 or -1, the stronger the linear relationship.\n",
    "\n",
    "So, after calculating r for your specific data, you can interpret the correlation coefficient to understand the nature and strength of the relationship between study time and exam scores among the students in your study.\n",
    "\n"
   ]
  },
  {
   "cell_type": "markdown",
   "id": "d768ab2e-88b4-43b3-a1dd-6c72edbb4923",
   "metadata": {},
   "source": [
    "                      -------------------------------------------------------------------"
   ]
  },
  {
   "cell_type": "markdown",
   "id": "491180f2-5135-481c-9aa5-c7f7f6e92a5f",
   "metadata": {},
   "source": [
    "Q2. Spearman's rank correlation is a measure of the monotonic relationship between two variables.\n",
    "Suppose you have collected data on the amount of sleep individuals get each night and their overall job\n",
    "satisfaction level on a scale of 1 to 10. Calculate the Spearman's rank correlation between these two\n",
    "variables and interpret the result."
   ]
  },
  {
   "cell_type": "code",
   "execution_count": 7,
   "id": "95cd0f56-ab9f-42d5-a6f2-dc703f0bfe97",
   "metadata": {},
   "outputs": [
    {
     "name": "stdout",
     "output_type": "stream",
     "text": [
      "Spearman's rank correlation coefficient: 0.9875771574795098\n"
     ]
    }
   ],
   "source": [
    "import scipy.stats\n",
    "\n",
    "# Sample data for sleep and job satisfaction\n",
    "sleep = [6, 7, 8, 5, 6, 7, 8, 5, 4, 6]\n",
    "job_satisfaction = [7, 8, 9, 5, 6, 8, 9, 4, 3, 7]\n",
    "\n",
    "# Calculate Spearman's rank correlation\n",
    "spearman_corr, _ = scipy.stats.spearmanr(sleep, job_satisfaction)\n",
    "\n",
    "print(\"Spearman's rank correlation coefficient:\", spearman_corr)"
   ]
  },
  {
   "cell_type": "markdown",
   "id": "1d234d92-580a-4f9a-bb8b-7df45a01bab8",
   "metadata": {},
   "source": [
    "Here ρ is close to 1: This indicates a strong positive monotonic relationship between sleep and job satisfaction. In other words, as the amount of sleep increases, job satisfaction tends to increase in a monotonic fashion. This suggests that people who get more sleep tend to report higher job satisfaction."
   ]
  },
  {
   "cell_type": "markdown",
   "id": "61e7fe27-1fe2-442b-9990-ddf2b4958328",
   "metadata": {},
   "source": [
    "                      -------------------------------------------------------------------"
   ]
  },
  {
   "cell_type": "markdown",
   "id": "ee58e8fc-6392-4da0-a0c9-2443f93e661c",
   "metadata": {},
   "source": [
    "Q3. Suppose you are conducting a study to examine the relationship between the number of hours of\n",
    "exercise per week and body mass index (BMI) in a sample of adults. You collected data on both variables\n",
    "for 50 participants. Calculate the Pearson correlation coefficient and the Spearman's rank correlation\n",
    "between these two variables and compare the results."
   ]
  },
  {
   "cell_type": "code",
   "execution_count": 28,
   "id": "c4a31648-0450-4cfb-939c-2fdc5b78a13c",
   "metadata": {},
   "outputs": [
    {
     "name": "stdout",
     "output_type": "stream",
     "text": [
      "Pearson correlation coefficient: -0.2943991578993425\n",
      "Spearman's rank correlation coefficient: -0.3022013280675571\n"
     ]
    }
   ],
   "source": [
    "#Answer\n",
    "\n",
    "import numpy as np\n",
    "from scipy import stats\n",
    "\n",
    "# assuming  Sample data for exercise hours and BMI\n",
    "exercise_hours = [2, 3, 4, 3, 5, 2, 1, 4, 3, 5, 2, 6, 3, 4, 2, 5, 1, 3, 6, 4, 5, 2, 1, 4, 3, 5, 2, 6, 3, 4, 2, 5, 1, 3, 6, 4, 5, 2, 1, 4, 3, 5, 2, 6, 3, 4, 5, 5,6,2]\n",
    "bmi = [28, 24, 22, 26, 30, 29, 31, 25, 27, 23, 28, 21, 26, 24, 29, 22, 30, 26, 20, 22, 21, 27, 29, 23, 26, 20, 25, 21, 26, 28, 24, 20, 27, 22, 29, 23, 26, 30, 21, 24, 22, 28, 31, 25, 27, 29, 30,30,32,22]\n",
    "\n",
    "# Calculate Pearson correlation coefficient\n",
    "pearson_corr, _ = stats.pearsonr(exercise_hours, bmi)\n",
    "\n",
    "# Calculate Spearman's rank correlation\n",
    "spearman_corr, _ = stats.spearmanr(exercise_hours, bmi)\n",
    "\n",
    "print(\"Pearson correlation coefficient:\", pearson_corr)\n",
    "print(\"Spearman's rank correlation coefficient:\", spearman_corr)\n"
   ]
  },
  {
   "cell_type": "markdown",
   "id": "7a9649a5-0cbd-457b-a779-812259734881",
   "metadata": {},
   "source": [
    "\n",
    "Interpreting the results:\n",
    "\n",
    "Pearson Correlation Coefficient:\n",
    "\n",
    "The Pearson correlation coefficient is approximately -0.294.\n",
    "* It is negative, indicating a weak negative linear relationship between the number of hours of exercise per week and body mass index (BMI). This means that, on average, as the number of hours of exercise per week increases, BMI tends to decrease slightly.\n",
    "* The magnitude of -0.294 suggests a relatively weak linear association, which means that the linear correlation between these two variables is not very strong.\n",
    "\n",
    "Spearman's Rank Correlation Coefficient:\n",
    "\n",
    "* The Spearman's rank correlation coefficient is approximately -0.302.\n",
    "* It is also negative, indicating a weak negative monotonic relationship between exercise hours and BMI. This suggests that, on average, as exercise hours increase, BMI tends to decrease in a monotonic fashion, which aligns with the Pearson correlation results.\n",
    "The magnitude of -0.302 suggests a relatively weak monotonic association, which means that there is a weak tendency for BMI to decrease as exercise hours increase in a monotonic manner."
   ]
  },
  {
   "cell_type": "markdown",
   "id": "ab68aa9b-06e7-48ba-9454-ab662e3c7fc2",
   "metadata": {},
   "source": [
    "                      -------------------------------------------------------------------"
   ]
  },
  {
   "cell_type": "markdown",
   "id": "603d8454-0f91-4c58-9047-9330eaa2c9b0",
   "metadata": {},
   "source": [
    "Q4. A researcher is interested in examining the relationship between the number of hours individuals\n",
    "spend watching television per day and their level of physical activity. The researcher collected data on\n",
    "both variables from a sample of 50 participants. Calculate the Pearson correlation coefficient between\n",
    "these two variables."
   ]
  },
  {
   "cell_type": "code",
   "execution_count": 27,
   "id": "d01c6029-65e5-4fe4-aa1a-cd5c9feb57f6",
   "metadata": {},
   "outputs": [
    {
     "name": "stdout",
     "output_type": "stream",
     "text": [
      "Pearson correlation coefficient: -0.009745574363240125\n"
     ]
    }
   ],
   "source": [
    "#Answer\n",
    "\n",
    "import scipy.stats\n",
    "\n",
    "# lets assume Sample data for TV hours and physical activity\n",
    "tv_hours = [2, 3, 4, 3, 5, 2, 1, 4, 3, 5, 2,4,1, 3, 6, 3, 4, 2, 5, 1, 3, 6, 4, 5, 2, 1, 4, 3, 5, 2, 6, 3, 4, 2, 5, 1, 3, 6, 4, 5, 2, 1, 4, 3, 5, 2, 6, 3, 4, 5]\n",
    "physical_activity = [3, 2, 1, 3, 1, 4, 5,4, 1,2,1, 2, 3, 1, 4, 2, 3, 2, 4, 1, 5, 3, 2, 1, 4, 4, 5, 3, 2, 1, 4, 2, 1, 3, 2, 3, 4, 5, 1, 3, 4, 2, 2, 1, 3, 5, 4, 3, 2, 1]\n",
    "\n",
    "# Calculate Pearson correlation coefficient\n",
    "pearson_corr, _ = scipy.stats.pearsonr(tv_hours, physical_activity)\n",
    "\n",
    "print(\"Pearson correlation coefficient:\", pearson_corr)\n"
   ]
  },
  {
   "cell_type": "markdown",
   "id": "d83dbde1-120b-428e-9820-73b17987c381",
   "metadata": {},
   "source": [
    "Q5. A survey was conducted to examine the relationship between age and preference for a particular\n",
    "brand of soft drink. The survey results are shown below:"
   ]
  },
  {
   "cell_type": "markdown",
   "id": "69503bbf-730a-4f76-8b08-f93a194949ba",
   "metadata": {},
   "source": [
    "  Age(Years)                 Soft drink Preference\n",
    "   25                          Coke\n",
    "   42                          Pepsi\n",
    "   37                          Mountain dew\n",
    "   19                          Coke\n",
    "   31                          Pepsi\n",
    "   28                          Coke\n"
   ]
  },
  {
   "cell_type": "code",
   "execution_count": null,
   "id": "fc58ae05-d6d9-4239-8e36-eb4608d4a284",
   "metadata": {},
   "outputs": [],
   "source": [
    "........................there is no question given, hence leaving the answer as blank...................................."
   ]
  },
  {
   "cell_type": "markdown",
   "id": "4bd56842-96dd-463e-9a53-abe5f7acc2c6",
   "metadata": {},
   "source": [
    "                       -------------------------------------------------------------------"
   ]
  },
  {
   "cell_type": "markdown",
   "id": "e5cfcd8a-e250-42a7-8424-c3a5f8fe7a69",
   "metadata": {},
   "source": [
    "Q6. A company is interested in examining the relationship between the number of sales calls made per day\n",
    "and the number of sales made per week. The company collected data on both variables from a sample of\n",
    "30 sales representatives. Calculate the Pearson correlation coefficient between these two variables"
   ]
  },
  {
   "cell_type": "code",
   "execution_count": 26,
   "id": "e56c2925-c023-4f09-be5d-2b3737280d6d",
   "metadata": {},
   "outputs": [
    {
     "name": "stdout",
     "output_type": "stream",
     "text": [
      "Pearson correlation coefficient: 0.9523971601611595\n"
     ]
    }
   ],
   "source": [
    "#Answer\n",
    "\n",
    "import scipy.stats\n",
    "\n",
    "# let's Sample data for sales calls per day and sales per week\n",
    "sales_calls_per_day = [20, 15, 25, 30, 18, 22, 27, 19, 21, 26, 24, 23, 17, 28, 16, 29, 30, 22, 18, 25, 19, 20, 17, 23, 21, 26, 16, 27, 24, 28]\n",
    "sales_per_week = [5, 3, 6, 7, 4, 6, 8, 5, 6, 7, 7, 6, 4, 8, 3, 8, 9, 6, 4, 7, 5, 5, 4, 6, 6, 7, 3, 8, 6, 7]\n",
    "\n",
    "# Calculate Pearson correlation coefficient\n",
    "pearson_corr, _ = scipy.stats.pearsonr(sales_calls_per_day, sales_per_week)\n",
    "\n",
    "print(\"Pearson correlation coefficient:\", pearson_corr)\n"
   ]
  },
  {
   "cell_type": "markdown",
   "id": "c195c9bd-aba6-49ad-a195-6b541eb54fb2",
   "metadata": {},
   "source": [
    "                        -------------------------------------------------------------------"
   ]
  }
 ],
 "metadata": {
  "kernelspec": {
   "display_name": "Python 3 (ipykernel)",
   "language": "python",
   "name": "python3"
  },
  "language_info": {
   "codemirror_mode": {
    "name": "ipython",
    "version": 3
   },
   "file_extension": ".py",
   "mimetype": "text/x-python",
   "name": "python",
   "nbconvert_exporter": "python",
   "pygments_lexer": "ipython3",
   "version": "3.10.8"
  }
 },
 "nbformat": 4,
 "nbformat_minor": 5
}
